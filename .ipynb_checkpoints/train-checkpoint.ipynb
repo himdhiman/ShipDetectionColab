{
 "cells": [
  {
   "cell_type": "markdown",
   "metadata": {
    "colab_type": "text",
    "id": "kBwSn8yCQeOt"
   },
   "source": [
    "#Environment Setup"
   ]
  },
  {
   "cell_type": "code",
   "execution_count": null,
   "metadata": {
    "colab": {},
    "colab_type": "code",
    "id": "9vV5WmzT2Aey"
   },
   "outputs": [
    {
     "name": "stderr",
     "output_type": "stream",
     "text": [
      "'apt-get' is not recognized as an internal or external command,\n",
      "operable program or batch file.\n"
     ]
    },
    {
     "name": "stdout",
     "output_type": "stream",
     "text": [
      "Requirement already satisfied: Cython in c:\\users\\himan\\anaconda3\\lib\\site-packages (0.29.13)\n",
      "Requirement already satisfied: jupyter in c:\\users\\himan\\anaconda3\\lib\\site-packages (1.0.0)\n",
      "Requirement already satisfied: ipykernel in c:\\users\\himan\\anaconda3\\lib\\site-packages (from jupyter) (5.1.2)\n",
      "Requirement already satisfied: qtconsole in c:\\users\\himan\\anaconda3\\lib\\site-packages (from jupyter) (4.5.5)\n",
      "Requirement already satisfied: ipywidgets in c:\\users\\himan\\anaconda3\\lib\\site-packages (from jupyter) (7.5.1)\n",
      "Requirement already satisfied: jupyter-console in c:\\users\\himan\\anaconda3\\lib\\site-packages (from jupyter) (6.0.0)\n",
      "Requirement already satisfied: notebook in c:\\users\\himan\\anaconda3\\lib\\site-packages (from jupyter) (6.0.1)\n",
      "Requirement already satisfied: nbconvert in c:\\users\\himan\\anaconda3\\lib\\site-packages (from jupyter) (5.6.0)\n",
      "Requirement already satisfied: ipython>=5.0.0 in c:\\users\\himan\\anaconda3\\lib\\site-packages (from ipykernel->jupyter) (7.8.0)\n",
      "Requirement already satisfied: jupyter-client in c:\\users\\himan\\anaconda3\\lib\\site-packages (from ipykernel->jupyter) (5.3.3)\n",
      "Requirement already satisfied: tornado>=4.2 in c:\\users\\himan\\anaconda3\\lib\\site-packages (from ipykernel->jupyter) (6.0.3)\n",
      "Requirement already satisfied: traitlets>=4.1.0 in c:\\users\\himan\\anaconda3\\lib\\site-packages (from ipykernel->jupyter) (4.3.3)\n",
      "Requirement already satisfied: jupyter-core in c:\\users\\himan\\anaconda3\\lib\\site-packages (from qtconsole->jupyter) (4.5.0)\n",
      "Requirement already satisfied: pygments in c:\\users\\himan\\anaconda3\\lib\\site-packages (from qtconsole->jupyter) (2.4.2)\n",
      "Requirement already satisfied: ipython-genutils in c:\\users\\himan\\anaconda3\\lib\\site-packages (from qtconsole->jupyter) (0.2.0)\n",
      "Requirement already satisfied: widgetsnbextension~=3.5.0 in c:\\users\\himan\\anaconda3\\lib\\site-packages (from ipywidgets->jupyter) (3.5.1)\n",
      "Requirement already satisfied: nbformat>=4.2.0 in c:\\users\\himan\\anaconda3\\lib\\site-packages (from ipywidgets->jupyter) (4.4.0)\n",
      "Requirement already satisfied: prompt_toolkit<2.1.0,>=2.0.0 in c:\\users\\himan\\anaconda3\\lib\\site-packages (from jupyter-console->jupyter) (2.0.10)\n",
      "Requirement already satisfied: terminado>=0.8.1 in c:\\users\\himan\\anaconda3\\lib\\site-packages (from notebook->jupyter) (0.8.2)\n",
      "Requirement already satisfied: Send2Trash in c:\\users\\himan\\anaconda3\\lib\\site-packages (from notebook->jupyter) (1.5.0)\n",
      "Requirement already satisfied: prometheus-client in c:\\users\\himan\\anaconda3\\lib\\site-packages (from notebook->jupyter) (0.7.1)\n",
      "Requirement already satisfied: jinja2 in c:\\users\\himan\\anaconda3\\lib\\site-packages (from notebook->jupyter) (2.10.3)\n",
      "Requirement already satisfied: pyzmq>=17 in c:\\users\\himan\\anaconda3\\lib\\site-packages (from notebook->jupyter) (18.1.0)\n",
      "Requirement already satisfied: bleach in c:\\users\\himan\\anaconda3\\lib\\site-packages (from nbconvert->jupyter) (3.1.0)\n",
      "Requirement already satisfied: defusedxml in c:\\users\\himan\\anaconda3\\lib\\site-packages (from nbconvert->jupyter) (0.6.0)\n",
      "Requirement already satisfied: testpath in c:\\users\\himan\\anaconda3\\lib\\site-packages (from nbconvert->jupyter) (0.4.2)\n",
      "Requirement already satisfied: entrypoints>=0.2.2 in c:\\users\\himan\\anaconda3\\lib\\site-packages (from nbconvert->jupyter) (0.3)\n",
      "Requirement already satisfied: mistune<2,>=0.8.1 in c:\\users\\himan\\anaconda3\\lib\\site-packages (from nbconvert->jupyter) (0.8.4)\n",
      "Requirement already satisfied: pandocfilters>=1.4.1 in c:\\users\\himan\\anaconda3\\lib\\site-packages (from nbconvert->jupyter) (1.4.2)\n",
      "Requirement already satisfied: decorator in c:\\users\\himan\\anaconda3\\lib\\site-packages (from ipython>=5.0.0->ipykernel->jupyter) (4.4.0)\n",
      "Requirement already satisfied: jedi>=0.10 in c:\\users\\himan\\anaconda3\\lib\\site-packages (from ipython>=5.0.0->ipykernel->jupyter) (0.15.1)\n",
      "Requirement already satisfied: colorama; sys_platform == \"win32\" in c:\\users\\himan\\anaconda3\\lib\\site-packages (from ipython>=5.0.0->ipykernel->jupyter) (0.4.1)\n",
      "Requirement already satisfied: pickleshare in c:\\users\\himan\\anaconda3\\lib\\site-packages (from ipython>=5.0.0->ipykernel->jupyter) (0.7.5)\n",
      "Requirement already satisfied: setuptools>=18.5 in c:\\users\\himan\\anaconda3\\lib\\site-packages (from ipython>=5.0.0->ipykernel->jupyter) (41.4.0)\n",
      "Requirement already satisfied: backcall in c:\\users\\himan\\anaconda3\\lib\\site-packages (from ipython>=5.0.0->ipykernel->jupyter) (0.1.0)\n",
      "Requirement already satisfied: pywin32>=1.0; sys_platform == \"win32\" in c:\\users\\himan\\anaconda3\\lib\\site-packages (from jupyter-client->ipykernel->jupyter) (223)\n",
      "Requirement already satisfied: python-dateutil>=2.1 in c:\\users\\himan\\anaconda3\\lib\\site-packages (from jupyter-client->ipykernel->jupyter) (2.8.0)\n",
      "Requirement already satisfied: six in c:\\users\\himan\\anaconda3\\lib\\site-packages (from traitlets>=4.1.0->ipykernel->jupyter) (1.15.0)\n",
      "Requirement already satisfied: jsonschema!=2.5.0,>=2.4 in c:\\users\\himan\\anaconda3\\lib\\site-packages (from nbformat>=4.2.0->ipywidgets->jupyter) (3.2.0)\n",
      "Requirement already satisfied: wcwidth in c:\\users\\himan\\anaconda3\\lib\\site-packages (from prompt_toolkit<2.1.0,>=2.0.0->jupyter-console->jupyter) (0.1.7)\n",
      "Requirement already satisfied: MarkupSafe>=0.23 in c:\\users\\himan\\anaconda3\\lib\\site-packages (from jinja2->notebook->jupyter) (1.1.1)\n",
      "Requirement already satisfied: webencodings in c:\\users\\himan\\anaconda3\\lib\\site-packages (from bleach->nbconvert->jupyter) (0.5.1)\n",
      "Requirement already satisfied: parso>=0.5.0 in c:\\users\\himan\\anaconda3\\lib\\site-packages (from jedi>=0.10->ipython>=5.0.0->ipykernel->jupyter) (0.5.1)\n",
      "Requirement already satisfied: attrs>=17.4.0 in c:\\users\\himan\\anaconda3\\lib\\site-packages (from jsonschema!=2.5.0,>=2.4->nbformat>=4.2.0->ipywidgets->jupyter) (19.2.0)\n",
      "Requirement already satisfied: pyrsistent>=0.14.0 in c:\\users\\himan\\anaconda3\\lib\\site-packages (from jsonschema!=2.5.0,>=2.4->nbformat>=4.2.0->ipywidgets->jupyter) (0.15.4)\n",
      "Requirement already satisfied: importlib-metadata; python_version < \"3.8\" in c:\\users\\himan\\anaconda3\\lib\\site-packages (from jsonschema!=2.5.0,>=2.4->nbformat>=4.2.0->ipywidgets->jupyter) (0.23)\n",
      "Requirement already satisfied: zipp>=0.5 in c:\\users\\himan\\anaconda3\\lib\\site-packages (from importlib-metadata; python_version < \"3.8\"->jsonschema!=2.5.0,>=2.4->nbformat>=4.2.0->ipywidgets->jupyter) (0.6.0)\n",
      "Requirement already satisfied: more-itertools in c:\\users\\himan\\anaconda3\\lib\\site-packages (from zipp>=0.5->importlib-metadata; python_version < \"3.8\"->jsonschema!=2.5.0,>=2.4->nbformat>=4.2.0->ipywidgets->jupyter) (7.2.0)\n",
      "Requirement already satisfied: matplotlib in c:\\users\\himan\\anaconda3\\lib\\site-packages (3.1.1)\n",
      "Requirement already satisfied: cycler>=0.10 in c:\\users\\himan\\anaconda3\\lib\\site-packages (from matplotlib) (0.10.0)\n",
      "Requirement already satisfied: kiwisolver>=1.0.1 in c:\\users\\himan\\anaconda3\\lib\\site-packages (from matplotlib) (1.1.0)\n",
      "Requirement already satisfied: pyparsing!=2.0.4,!=2.1.2,!=2.1.6,>=2.0.1 in c:\\users\\himan\\anaconda3\\lib\\site-packages (from matplotlib) (2.4.2)\n",
      "Requirement already satisfied: python-dateutil>=2.1 in c:\\users\\himan\\anaconda3\\lib\\site-packages (from matplotlib) (2.8.0)\n",
      "Requirement already satisfied: numpy>=1.11 in c:\\users\\himan\\anaconda3\\lib\\site-packages (from matplotlib) (1.16.5)\n",
      "Requirement already satisfied: six in c:\\users\\himan\\anaconda3\\lib\\site-packages (from cycler>=0.10->matplotlib) (1.15.0)\n",
      "Requirement already satisfied: setuptools in c:\\users\\himan\\anaconda3\\lib\\site-packages (from kiwisolver>=1.0.1->matplotlib) (41.4.0)\n"
     ]
    }
   ],
   "source": [
    "!apt-get install protobuf-compiler python-pil python-lxml python-tk\n",
    "!pip install Cython\n",
    "!pip install jupyter\n",
    "!pip install matplotlib\n",
    "\n",
    "!git clone https://github.com/tensorflow/models.git\n",
    "\n",
    "%cd /content/models/research\n",
    "\n",
    "!protoc object_detection/protos/*.proto --python_out=.\n",
    "\n",
    "%set_env PYTHONPATH=/content/models/research:/content/models/research/slim\n",
    "\n",
    "!python object_detection/builders/model_builder_test.py"
   ]
  },
  {
   "cell_type": "markdown",
   "metadata": {
    "colab_type": "text",
    "id": "7T3RDLqtU6IT"
   },
   "source": [
    "#Train Model"
   ]
  },
  {
   "cell_type": "code",
   "execution_count": 0,
   "metadata": {
    "colab": {},
    "colab_type": "code",
    "id": "tDKvkhu32k1I"
   },
   "outputs": [],
   "source": [
    "!python object_detection/legacy/train.py \\\n",
    "--train_dir=/content/drive/learning/DL/projects/object_detection/speaker_detection/CP \\\n",
    "--pipeline_config_path=/content/drive/learning/DL/projects/object_detection/speaker_detection/faster_rcnn_resnet101_coco.config"
   ]
  },
  {
   "cell_type": "markdown",
   "metadata": {
    "colab_type": "text",
    "id": "dEiNEqC5U-mP"
   },
   "source": [
    "#Save inference graph"
   ]
  },
  {
   "cell_type": "code",
   "execution_count": 0,
   "metadata": {
    "colab": {},
    "colab_type": "code",
    "id": "u_ixlaX62mMF"
   },
   "outputs": [],
   "source": [
    "!python object_detection/export_inference_graph.py \\\n",
    "--input_type=image_tensor \\\n",
    "--pipeline_config_path=/content/drive/learning/DL/projects/object_detection/speaker_detection/faster_rcnn_resnet101_coco.config \\\n",
    "--trained_checkpoint_prefix=/content/drive/learning/DL/projects/object_detection/speaker_detection/CP/model.ckpt-1691 \\\n",
    "--output_directory=/content/drive/learning/DL/projects/object_detection/speaker_detection/IG"
   ]
  },
  {
   "cell_type": "code",
   "execution_count": 0,
   "metadata": {
    "colab": {},
    "colab_type": "code",
    "id": "oiSnn-DhMDFK"
   },
   "outputs": [],
   "source": []
  }
 ],
 "metadata": {
  "accelerator": "GPU",
  "colab": {
   "collapsed_sections": [],
   "name": "train.ipynb",
   "private_outputs": true,
   "provenance": [],
   "version": "0.3.2"
  },
  "kernelspec": {
   "display_name": "Python 3",
   "language": "python",
   "name": "python3"
  },
  "language_info": {
   "codemirror_mode": {
    "name": "ipython",
    "version": 3
   },
   "file_extension": ".py",
   "mimetype": "text/x-python",
   "name": "python",
   "nbconvert_exporter": "python",
   "pygments_lexer": "ipython3",
   "version": "3.7.4"
  }
 },
 "nbformat": 4,
 "nbformat_minor": 1
}
